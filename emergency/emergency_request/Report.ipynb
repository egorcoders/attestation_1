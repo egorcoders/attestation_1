{
 "cells": [
  {
   "cell_type": "markdown",
   "source": [],
   "metadata": {
    "collapsed": false
   }
  },
  {
   "cell_type": "code",
   "execution_count": 1395,
   "outputs": [],
   "source": [
    "import httplib2\n",
    "import pandas as pd\n",
    "import glob\n",
    "import datetime as dt\n",
    "import locale\n",
    "locale.setlocale(locale.LC_ALL, 'ru_RU.UTF-8')  # Устанавливаем поддержку русского языка\n",
    "\n",
    "pd.options.display.max_seq_items = 2000\n",
    "import pandas as pd\n",
    "import gspread\n",
    "from googleapiclient.discovery import build\n",
    "from df2gspread import df2gspread as d2g\n",
    "from oauth2client.service_account import ServiceAccountCredentials"
   ],
   "metadata": {
    "collapsed": false
   }
  },
  {
   "cell_type": "code",
   "execution_count": 1396,
   "outputs": [],
   "source": [
    "df = pd.read_csv(glob.glob('/Users/iliya/Egor/iTCODE/reports/business-supervisor_issues_2022-**-**.csv')[0])"
   ],
   "metadata": {
    "collapsed": false
   }
  },
  {
   "cell_type": "code",
   "execution_count": 1397,
   "outputs": [],
   "source": [
    "df = df.drop(['Weight', 'Closed At (UTC)', 'Due Date', 'Assignee Username',\n",
    "              'Assignee', 'Author Username', 'Author', 'State', 'Locked',\n",
    "              'Confidential', 'Created At (UTC)', 'Updated At (UTC)', 'Time Estimate', 'Time Spent'], axis=1)"
   ],
   "metadata": {
    "collapsed": false
   }
  },
  {
   "cell_type": "code",
   "execution_count": 1398,
   "outputs": [],
   "source": [
    "report_date = dt.date.today().strftime(\"%d %B (%A)\")"
   ],
   "metadata": {
    "collapsed": false
   }
  },
  {
   "cell_type": "code",
   "execution_count": 1399,
   "outputs": [
    {
     "data": {
      "text/plain": "'07 декабря (среда)'"
     },
     "execution_count": 1399,
     "metadata": {},
     "output_type": "execute_result"
    }
   ],
   "source": [
    "report_date"
   ],
   "metadata": {
    "collapsed": false
   }
  },
  {
   "cell_type": "code",
   "execution_count": 1400,
   "outputs": [],
   "source": [
    "df = df.rename(columns={\n",
    "    'Issue ID': '№',\n",
    "    'URL': 'Ссылка',\n",
    "    'Title': 'Заголовок',\n",
    "    'Description': f'Описание задач за {report_date}',\n",
    "    'Milestone': 'Дата',\n",
    "    'Labels': 'Тэги'\n",
    "})"
   ],
   "metadata": {
    "collapsed": false
   }
  },
  {
   "cell_type": "code",
   "execution_count": 1401,
   "outputs": [],
   "source": [
    "df = df.reset_index(drop=True)"
   ],
   "metadata": {
    "collapsed": false
   }
  },
  {
   "cell_type": "code",
   "execution_count": 1402,
   "outputs": [
    {
     "data": {
      "text/plain": "      №                                             Ссылка  \\\n0     4  https://gitlab.mob112.ru/business/supervisor/-...   \n1    11  https://gitlab.mob112.ru/business/supervisor/-...   \n2    34  https://gitlab.mob112.ru/business/supervisor/-...   \n3    38  https://gitlab.mob112.ru/business/supervisor/-...   \n4    48  https://gitlab.mob112.ru/business/supervisor/-...   \n5    53  https://gitlab.mob112.ru/business/supervisor/-...   \n6    57  https://gitlab.mob112.ru/business/supervisor/-...   \n7    60  https://gitlab.mob112.ru/business/supervisor/-...   \n8    63  https://gitlab.mob112.ru/business/supervisor/-...   \n9    67  https://gitlab.mob112.ru/business/supervisor/-...   \n10   75  https://gitlab.mob112.ru/business/supervisor/-...   \n11   76  https://gitlab.mob112.ru/business/supervisor/-...   \n12   77  https://gitlab.mob112.ru/business/supervisor/-...   \n13   78  https://gitlab.mob112.ru/business/supervisor/-...   \n14   82  https://gitlab.mob112.ru/business/supervisor/-...   \n15   84  https://gitlab.mob112.ru/business/supervisor/-...   \n16   86  https://gitlab.mob112.ru/business/supervisor/-...   \n17   87  https://gitlab.mob112.ru/business/supervisor/-...   \n18   88  https://gitlab.mob112.ru/business/supervisor/-...   \n19   90  https://gitlab.mob112.ru/business/supervisor/-...   \n20   92  https://gitlab.mob112.ru/business/supervisor/-...   \n21   93  https://gitlab.mob112.ru/business/supervisor/-...   \n22   95  https://gitlab.mob112.ru/business/supervisor/-...   \n23   96  https://gitlab.mob112.ru/business/supervisor/-...   \n24   97  https://gitlab.mob112.ru/business/supervisor/-...   \n25   99  https://gitlab.mob112.ru/business/supervisor/-...   \n26  100  https://gitlab.mob112.ru/business/supervisor/-...   \n27  106  https://gitlab.mob112.ru/business/supervisor/-...   \n28  108  https://gitlab.mob112.ru/business/supervisor/-...   \n29  109  https://gitlab.mob112.ru/business/supervisor/-...   \n30  111  https://gitlab.mob112.ru/business/supervisor/-...   \n31  112  https://gitlab.mob112.ru/business/supervisor/-...   \n32  113  https://gitlab.mob112.ru/business/supervisor/-...   \n33  114  https://gitlab.mob112.ru/business/supervisor/-...   \n34  115  https://gitlab.mob112.ru/business/supervisor/-...   \n35  116  https://gitlab.mob112.ru/business/supervisor/-...   \n36  117  https://gitlab.mob112.ru/business/supervisor/-...   \n37  118  https://gitlab.mob112.ru/business/supervisor/-...   \n38  120  https://gitlab.mob112.ru/business/supervisor/-...   \n39  121  https://gitlab.mob112.ru/business/supervisor/-...   \n40  122  https://gitlab.mob112.ru/business/supervisor/-...   \n41  125  https://gitlab.mob112.ru/business/supervisor/-...   \n42  126  https://gitlab.mob112.ru/business/supervisor/-...   \n43  129  https://gitlab.mob112.ru/business/supervisor/-...   \n44  130  https://gitlab.mob112.ru/business/supervisor/-...   \n45  131  https://gitlab.mob112.ru/business/supervisor/-...   \n46  132  https://gitlab.mob112.ru/business/supervisor/-...   \n47  133  https://gitlab.mob112.ru/business/supervisor/-...   \n48  134  https://gitlab.mob112.ru/business/supervisor/-...   \n49  135  https://gitlab.mob112.ru/business/supervisor/-...   \n50  136  https://gitlab.mob112.ru/business/supervisor/-...   \n\n                                            Заголовок  \\\n0                            Расписание маршрутизации   \n1                                  Cправочник адресов   \n2                Нет функционала переадресации звонка   \n3   Ограничене доступа к функциям Суфлер, конферен...   \n4   При использовании в пароле символов используем...   \n5                       Сортировка карточек обращений   \n6                         Не работает перехват звонка   \n7         Доработки интерфейса анкетирования (survey)   \n8   Выверить логику отображения и занятости карточ...   \n9   Окно подтверждения получения уведомлений в бра...   \n10      Операторы не стабильно возвращаются в очередь   \n11  Реализовать автовозвращение операторов с резер...   \n12        Возможность осуществления исходящего вызова   \n13  На освободившихся операторов не распределяются...   \n14  Предусмотреть настройкой очереди отображения к...   \n15  Cброс статуса номера телефона в компании Автоо...   \n16                                 Распознование речи   \n17  Интерактивное голсовое меню с распознованием г...   \n18                       Преобразование текста в речь   \n19   Время перевода в очереди на следующего оператора   \n20  Обеспечить автоматическую отправку СМС-сообщен...   \n21                     Обеспечить синхронизацию полей   \n22  Обеспечить передачу пользователю МП информации...   \n23      Обеспечить передачу в С-112 основных сведений   \n24  В адресной книге PBX формы \"Добавить номер тел...   \n25  При создании обращения в форме обращения можно...   \n26  В зоне анкетирования форма принимает и выводит...   \n27  Активность кнопки Сохранить в карточке обращен...   \n28      Обеспечить поддержку групп в PBX и Freeswitch   \n29  Комплексное тестирование работы операторов сте...   \n30  Прерывание текущего диалога с переведенным або...   \n31  Количество операторов в сети не отображается в...   \n32  Переведённые звонки сбрасываются в момент пост...   \n33  Карточка не создаётся если доходит звонок и ид...   \n34    Количество звонков в очереди всегда 0 в АРМ 122   \n35  Прием звонков на АРМ прерывается пока не уйдеш...   \n36  Приоритет APM телефонов при одновременном нахо...   \n37  Задержка передачи карточки при переводе звонка...   \n38              Наличие очереди при исходящем обзвоне   \n39  Некорректная логика распределения \"на всех одн...   \n40      Проблемы со звуком и сохранением его настроек   \n41  Вызываемый абонент исходящей компании по обзво...   \n42  В интерфейсе создания обращения не указывается...   \n43    Ошибка создания карточки после принятия звонков   \n44               Бесконечная загрузка списка карточек   \n45  Ошибка перехода по заголовку миникарточки звон...   \n46               Ошибка сохранения карточек в системе   \n47  Некорректное создание карточки  без номера тел...   \n48  Ошибка при попытке изменить карточку \"Expected...   \n49  Ошибка обнуления счетчика поствызывной обработ...   \n50  При изменении статуса кп на \"завершено\" продол...   \n\n                 Описание задач за 07 декабря (среда)               Дата  \\\n0   'Необходимо реализовать расписание маршрутизац...   Тверь 15.11.2022   \n1   'Нужен ГАР (справочник адресов, с возможностью...   Тверь 15.11.2022   \n2   'Отсутствует интерфейс и функционал переадреса...   Тверь 15.11.2022   \n3   'Суфлер, конференцию и перехват звонка, разреш...   Тверь 15.11.2022   \n4   'При использовании в пароле пользователя симво...   Тверь 15.11.2022   \n5   'Кривая сортировка. Закрытая карточка стала пе...   Тверь 15.11.2022   \n6   Не работает перехват звонка между операторами,...   Тверь 15.11.2022   \n7   '- [x] 1. Требуется визуальное блочное разделе...   Тверь 15.11.2022   \n8   'Выверить логику отображения и занятости карто...   Тверь 15.11.2022   \n9   'В браузере Chromium при каждом запуске браузе...   Тверь 15.11.2022   \n10  'Операторы не стабильно возвращаются в очередь...   Тверь 15.11.2022   \n11  'Реализовать автовозвращение операторов с резе...   Тверь 15.11.2022   \n12  'Возможность осуществления исходящего вызова (...   Тверь 15.11.2022   \n13  'На освободившихся операторов не распределяютс...   Тверь 15.11.2022   \n14  'Предусмотреть настройкой очереди (в интерфейс...   Тверь 15.11.2022   \n15  'Предусмотреть в исходящей компании автообзвон...   Тверь 15.11.2022   \n16                                                NaN                NaN   \n17                                                NaN                NaN   \n18                                                NaN                NaN   \n19  'В интерфейсе PBX, в настройках очереди, добав...   Тверь 15.11.2022   \n20  'Сформированное мобильным приложением СМС-сооб...  Брянск 22.11.2022   \n21  'Обеспечить синхронизацию полей карточки проис...  Брянск 22.11.2022   \n22  'Обеспечить передачу пользователю  Мобильного ...  Брянск 22.11.2022   \n23  'Обеспечить корректную передачу в Систему-112 ...  Брянск 22.11.2022   \n24  '- [ ] FrontEnd\\r\\n\\r\\n![Screenshot_2022-11-22...                NaN   \n25  '- [ ] FrontEnd\\r\\n\\r\\n![Screenshot_2022-11-22...                NaN   \n26  '- [ ] FrontEnd Артем\\r\\n- https://gitlab.mob1...                NaN   \n27  'Кнопка \"Сохранить\" в карточке обращения и зая...   Тверь 15.11.2022   \n28  'Требуется обеспечить создание и поддержку гру...   Тверь 15.11.2022   \n29  '**Создать стенд который позволяет:**\\r\\n- Ото...                NaN   \n30  'При разговоре с переведенным абонентом и пост...                NaN   \n31                     '- [ ] FrontEnd\\r\\n- [ ] Phone                NaN   \n32  '- [ ] FrontEnd\\r\\n\\r\\n![Untitled](/uploads/db...                NaN   \n33  '- Исходящий обзвон - тестировали на https://r...                NaN   \n34    '- [ ] FrontEnd\\r\\n- [ ] BackEnd\\r\\n- [ ] Phone                NaN   \n35    '- [ ] FrontEnd\\r\\n- [ ] BackEnd\\r\\n- [ ] Phone                NaN   \n36  '- [ ] Phone\\r\\n\\r\\nЗвонок обходит операторов ...                NaN   \n37  '- при переводе звонка между операторами карто...                NaN   \n38  '- недопустима очередь при исходящем обзвоне\\r...                NaN   \n39                                       '- [ ] Phone                NaN   \n40  '- Брак по звуку (плохая слышимость) кодеки, у...                NaN   \n41                   '- [ ] FrontEnd\\r\\n- [ ] BackEnd                NaN   \n42  'В форме интерфейсе создания обращения не указ...   Тверь 29.11.2022   \n43  '\"зависают\" звонки -  звонок принят, карточка ...                NaN   \n44                                    '- [ ] FrontEnd                NaN   \n45  '- Переход по заголовку миникарточки звонка по...                NaN   \n46  '- скопировать номер входящего звонка\\r\\n- пер...                NaN   \n47                                                NaN                NaN   \n48  '![photo_2022-12-05_22-17-39](/uploads/bc4b4d7...                NaN   \n49  '- возможно пропадет если ходить патчем при за...                NaN   \n50  '![photo_2022-12-06_10-08-30](/uploads/7138457...                NaN   \n\n                                                 Тэги  \n0   !Critical,#BackEnd,#FrontEnd,#Phone,*PBX,Требу...  \n1                          #BackEnd,#FrontEnd,*Region  \n2   #BackEnd,#Design,#FrontEnd,#Phone,#Support,*Re...  \n3                    #FrontEnd,*Region,Готово на бэке  \n4              !Bugs,#FrontEnd,*Region,Текущий спринт  \n5    !Bugs,!Critical,#FrontEnd,*Region,Текущий спринт  \n6     !Bugs,!Critical,#FrontEnd,#Phone,Текущий спринт  \n7   #BackEnd,#Design,#FrontEnd,*Region,*Survey,Сле...  \n8   !Bugs,#BackEnd,#FrontEnd,*Region,Текущий сприн...  \n9    !Bugs,!Critical,#FrontEnd,*Region,Текущий спринт  \n10  !Bugs,!Critical,#BackEnd,#Phone,*Region,Текущи...  \n11         !Critical,#FrontEnd,*Region,Текущий спринт  \n12  !Critical,#BackEnd,#Design,#FrontEnd,#Phone,*R...  \n13  !Bugs,!Critical,#BackEnd,#Phone,*Region,Текущи...  \n14           #BackEnd,#FrontEnd,*PBX,*Region,В работе  \n15   !Critical,#BackEnd,#FrontEnd,*PBX,Готово на бэке  \n16                                                NaN  \n17                                                NaN  \n18                                                NaN  \n19      #BackEnd,#FrontEnd,#Phone,*PBX,Текущий спринт  \n20                              #Phone,Текущий спринт  \n21               #BackEnd,Текущий спринт,Тестирование  \n22                              #Phone,Текущий спринт  \n23  #BackEnd,*Region,Текущий спринт,Требуют обсужд...  \n24                              #FrontEnd,*PBX,Junior  \n25                    #FrontEnd,Junior,Текущий спринт  \n26                    #FrontEnd,Junior,Текущий спринт  \n27                   #FrontEnd,*Region,Текущий спринт  \n28  !Critical,#BackEnd,#FrontEnd,*PBX,Следующий сп...  \n29                     !Critical,#DevOPS,Тестирование  \n30                   !Bugs,!Critical,#FrontEnd,#Phone  \n31                          !Bugs,!Critical,#FrontEnd  \n32                   !Bugs,!Critical,#FrontEnd,#Phone  \n33                            !Bugs,!Critical,#DevOPS  \n34                 !Bugs,!Critical,#BackEnd,#FrontEnd  \n35          !Bugs,!Critical,#BackEnd,#FrontEnd,#Phone  \n36                          #BackEnd,#FrontEnd,#Phone  \n37                                 #BackEnd,#FrontEnd  \n38                           !Bugs,!Critical,#BackEnd  \n39  !Bugs,!Critical,#BackEnd,#FrontEnd,Требуют обс...  \n40                          !Bugs,!Critical,#FrontEnd  \n41                 !Bugs,!Critical,#BackEnd,#FrontEnd  \n42                                    !Bugs,!Critical  \n43                          !Bugs,!Critical,#FrontEnd  \n44                          !Bugs,!Critical,#FrontEnd  \n45                          !Bugs,!Critical,#FrontEnd  \n46                 !Bugs,!Critical,#BackEnd,#FrontEnd  \n47                          !Bugs,!Critical,#FrontEnd  \n48                          !Bugs,!Critical,#FrontEnd  \n49                          !Bugs,!Critical,#FrontEnd  \n50                          !Bugs,!Critical,#FrontEnd  ",
      "text/html": "<div>\n<style scoped>\n    .dataframe tbody tr th:only-of-type {\n        vertical-align: middle;\n    }\n\n    .dataframe tbody tr th {\n        vertical-align: top;\n    }\n\n    .dataframe thead th {\n        text-align: right;\n    }\n</style>\n<table border=\"1\" class=\"dataframe\">\n  <thead>\n    <tr style=\"text-align: right;\">\n      <th></th>\n      <th>№</th>\n      <th>Ссылка</th>\n      <th>Заголовок</th>\n      <th>Описание задач за 07 декабря (среда)</th>\n      <th>Дата</th>\n      <th>Тэги</th>\n    </tr>\n  </thead>\n  <tbody>\n    <tr>\n      <th>0</th>\n      <td>4</td>\n      <td>https://gitlab.mob112.ru/business/supervisor/-...</td>\n      <td>Расписание маршрутизации</td>\n      <td>'Необходимо реализовать расписание маршрутизац...</td>\n      <td>Тверь 15.11.2022</td>\n      <td>!Critical,#BackEnd,#FrontEnd,#Phone,*PBX,Требу...</td>\n    </tr>\n    <tr>\n      <th>1</th>\n      <td>11</td>\n      <td>https://gitlab.mob112.ru/business/supervisor/-...</td>\n      <td>Cправочник адресов</td>\n      <td>'Нужен ГАР (справочник адресов, с возможностью...</td>\n      <td>Тверь 15.11.2022</td>\n      <td>#BackEnd,#FrontEnd,*Region</td>\n    </tr>\n    <tr>\n      <th>2</th>\n      <td>34</td>\n      <td>https://gitlab.mob112.ru/business/supervisor/-...</td>\n      <td>Нет функционала переадресации звонка</td>\n      <td>'Отсутствует интерфейс и функционал переадреса...</td>\n      <td>Тверь 15.11.2022</td>\n      <td>#BackEnd,#Design,#FrontEnd,#Phone,#Support,*Re...</td>\n    </tr>\n    <tr>\n      <th>3</th>\n      <td>38</td>\n      <td>https://gitlab.mob112.ru/business/supervisor/-...</td>\n      <td>Ограничене доступа к функциям Суфлер, конферен...</td>\n      <td>'Суфлер, конференцию и перехват звонка, разреш...</td>\n      <td>Тверь 15.11.2022</td>\n      <td>#FrontEnd,*Region,Готово на бэке</td>\n    </tr>\n    <tr>\n      <th>4</th>\n      <td>48</td>\n      <td>https://gitlab.mob112.ru/business/supervisor/-...</td>\n      <td>При использовании в пароле символов используем...</td>\n      <td>'При использовании в пароле пользователя симво...</td>\n      <td>Тверь 15.11.2022</td>\n      <td>!Bugs,#FrontEnd,*Region,Текущий спринт</td>\n    </tr>\n    <tr>\n      <th>5</th>\n      <td>53</td>\n      <td>https://gitlab.mob112.ru/business/supervisor/-...</td>\n      <td>Сортировка карточек обращений</td>\n      <td>'Кривая сортировка. Закрытая карточка стала пе...</td>\n      <td>Тверь 15.11.2022</td>\n      <td>!Bugs,!Critical,#FrontEnd,*Region,Текущий спринт</td>\n    </tr>\n    <tr>\n      <th>6</th>\n      <td>57</td>\n      <td>https://gitlab.mob112.ru/business/supervisor/-...</td>\n      <td>Не работает перехват звонка</td>\n      <td>Не работает перехват звонка между операторами,...</td>\n      <td>Тверь 15.11.2022</td>\n      <td>!Bugs,!Critical,#FrontEnd,#Phone,Текущий спринт</td>\n    </tr>\n    <tr>\n      <th>7</th>\n      <td>60</td>\n      <td>https://gitlab.mob112.ru/business/supervisor/-...</td>\n      <td>Доработки интерфейса анкетирования (survey)</td>\n      <td>'- [x] 1. Требуется визуальное блочное разделе...</td>\n      <td>Тверь 15.11.2022</td>\n      <td>#BackEnd,#Design,#FrontEnd,*Region,*Survey,Сле...</td>\n    </tr>\n    <tr>\n      <th>8</th>\n      <td>63</td>\n      <td>https://gitlab.mob112.ru/business/supervisor/-...</td>\n      <td>Выверить логику отображения и занятости карточ...</td>\n      <td>'Выверить логику отображения и занятости карто...</td>\n      <td>Тверь 15.11.2022</td>\n      <td>!Bugs,#BackEnd,#FrontEnd,*Region,Текущий сприн...</td>\n    </tr>\n    <tr>\n      <th>9</th>\n      <td>67</td>\n      <td>https://gitlab.mob112.ru/business/supervisor/-...</td>\n      <td>Окно подтверждения получения уведомлений в бра...</td>\n      <td>'В браузере Chromium при каждом запуске браузе...</td>\n      <td>Тверь 15.11.2022</td>\n      <td>!Bugs,!Critical,#FrontEnd,*Region,Текущий спринт</td>\n    </tr>\n    <tr>\n      <th>10</th>\n      <td>75</td>\n      <td>https://gitlab.mob112.ru/business/supervisor/-...</td>\n      <td>Операторы не стабильно возвращаются в очередь</td>\n      <td>'Операторы не стабильно возвращаются в очередь...</td>\n      <td>Тверь 15.11.2022</td>\n      <td>!Bugs,!Critical,#BackEnd,#Phone,*Region,Текущи...</td>\n    </tr>\n    <tr>\n      <th>11</th>\n      <td>76</td>\n      <td>https://gitlab.mob112.ru/business/supervisor/-...</td>\n      <td>Реализовать автовозвращение операторов с резер...</td>\n      <td>'Реализовать автовозвращение операторов с резе...</td>\n      <td>Тверь 15.11.2022</td>\n      <td>!Critical,#FrontEnd,*Region,Текущий спринт</td>\n    </tr>\n    <tr>\n      <th>12</th>\n      <td>77</td>\n      <td>https://gitlab.mob112.ru/business/supervisor/-...</td>\n      <td>Возможность осуществления исходящего вызова</td>\n      <td>'Возможность осуществления исходящего вызова (...</td>\n      <td>Тверь 15.11.2022</td>\n      <td>!Critical,#BackEnd,#Design,#FrontEnd,#Phone,*R...</td>\n    </tr>\n    <tr>\n      <th>13</th>\n      <td>78</td>\n      <td>https://gitlab.mob112.ru/business/supervisor/-...</td>\n      <td>На освободившихся операторов не распределяются...</td>\n      <td>'На освободившихся операторов не распределяютс...</td>\n      <td>Тверь 15.11.2022</td>\n      <td>!Bugs,!Critical,#BackEnd,#Phone,*Region,Текущи...</td>\n    </tr>\n    <tr>\n      <th>14</th>\n      <td>82</td>\n      <td>https://gitlab.mob112.ru/business/supervisor/-...</td>\n      <td>Предусмотреть настройкой очереди отображения к...</td>\n      <td>'Предусмотреть настройкой очереди (в интерфейс...</td>\n      <td>Тверь 15.11.2022</td>\n      <td>#BackEnd,#FrontEnd,*PBX,*Region,В работе</td>\n    </tr>\n    <tr>\n      <th>15</th>\n      <td>84</td>\n      <td>https://gitlab.mob112.ru/business/supervisor/-...</td>\n      <td>Cброс статуса номера телефона в компании Автоо...</td>\n      <td>'Предусмотреть в исходящей компании автообзвон...</td>\n      <td>Тверь 15.11.2022</td>\n      <td>!Critical,#BackEnd,#FrontEnd,*PBX,Готово на бэке</td>\n    </tr>\n    <tr>\n      <th>16</th>\n      <td>86</td>\n      <td>https://gitlab.mob112.ru/business/supervisor/-...</td>\n      <td>Распознование речи</td>\n      <td>NaN</td>\n      <td>NaN</td>\n      <td>NaN</td>\n    </tr>\n    <tr>\n      <th>17</th>\n      <td>87</td>\n      <td>https://gitlab.mob112.ru/business/supervisor/-...</td>\n      <td>Интерактивное голсовое меню с распознованием г...</td>\n      <td>NaN</td>\n      <td>NaN</td>\n      <td>NaN</td>\n    </tr>\n    <tr>\n      <th>18</th>\n      <td>88</td>\n      <td>https://gitlab.mob112.ru/business/supervisor/-...</td>\n      <td>Преобразование текста в речь</td>\n      <td>NaN</td>\n      <td>NaN</td>\n      <td>NaN</td>\n    </tr>\n    <tr>\n      <th>19</th>\n      <td>90</td>\n      <td>https://gitlab.mob112.ru/business/supervisor/-...</td>\n      <td>Время перевода в очереди на следующего оператора</td>\n      <td>'В интерфейсе PBX, в настройках очереди, добав...</td>\n      <td>Тверь 15.11.2022</td>\n      <td>#BackEnd,#FrontEnd,#Phone,*PBX,Текущий спринт</td>\n    </tr>\n    <tr>\n      <th>20</th>\n      <td>92</td>\n      <td>https://gitlab.mob112.ru/business/supervisor/-...</td>\n      <td>Обеспечить автоматическую отправку СМС-сообщен...</td>\n      <td>'Сформированное мобильным приложением СМС-сооб...</td>\n      <td>Брянск 22.11.2022</td>\n      <td>#Phone,Текущий спринт</td>\n    </tr>\n    <tr>\n      <th>21</th>\n      <td>93</td>\n      <td>https://gitlab.mob112.ru/business/supervisor/-...</td>\n      <td>Обеспечить синхронизацию полей</td>\n      <td>'Обеспечить синхронизацию полей карточки проис...</td>\n      <td>Брянск 22.11.2022</td>\n      <td>#BackEnd,Текущий спринт,Тестирование</td>\n    </tr>\n    <tr>\n      <th>22</th>\n      <td>95</td>\n      <td>https://gitlab.mob112.ru/business/supervisor/-...</td>\n      <td>Обеспечить передачу пользователю МП информации...</td>\n      <td>'Обеспечить передачу пользователю  Мобильного ...</td>\n      <td>Брянск 22.11.2022</td>\n      <td>#Phone,Текущий спринт</td>\n    </tr>\n    <tr>\n      <th>23</th>\n      <td>96</td>\n      <td>https://gitlab.mob112.ru/business/supervisor/-...</td>\n      <td>Обеспечить передачу в С-112 основных сведений</td>\n      <td>'Обеспечить корректную передачу в Систему-112 ...</td>\n      <td>Брянск 22.11.2022</td>\n      <td>#BackEnd,*Region,Текущий спринт,Требуют обсужд...</td>\n    </tr>\n    <tr>\n      <th>24</th>\n      <td>97</td>\n      <td>https://gitlab.mob112.ru/business/supervisor/-...</td>\n      <td>В адресной книге PBX формы \"Добавить номер тел...</td>\n      <td>'- [ ] FrontEnd\\r\\n\\r\\n![Screenshot_2022-11-22...</td>\n      <td>NaN</td>\n      <td>#FrontEnd,*PBX,Junior</td>\n    </tr>\n    <tr>\n      <th>25</th>\n      <td>99</td>\n      <td>https://gitlab.mob112.ru/business/supervisor/-...</td>\n      <td>При создании обращения в форме обращения можно...</td>\n      <td>'- [ ] FrontEnd\\r\\n\\r\\n![Screenshot_2022-11-22...</td>\n      <td>NaN</td>\n      <td>#FrontEnd,Junior,Текущий спринт</td>\n    </tr>\n    <tr>\n      <th>26</th>\n      <td>100</td>\n      <td>https://gitlab.mob112.ru/business/supervisor/-...</td>\n      <td>В зоне анкетирования форма принимает и выводит...</td>\n      <td>'- [ ] FrontEnd Артем\\r\\n- https://gitlab.mob1...</td>\n      <td>NaN</td>\n      <td>#FrontEnd,Junior,Текущий спринт</td>\n    </tr>\n    <tr>\n      <th>27</th>\n      <td>106</td>\n      <td>https://gitlab.mob112.ru/business/supervisor/-...</td>\n      <td>Активность кнопки Сохранить в карточке обращен...</td>\n      <td>'Кнопка \"Сохранить\" в карточке обращения и зая...</td>\n      <td>Тверь 15.11.2022</td>\n      <td>#FrontEnd,*Region,Текущий спринт</td>\n    </tr>\n    <tr>\n      <th>28</th>\n      <td>108</td>\n      <td>https://gitlab.mob112.ru/business/supervisor/-...</td>\n      <td>Обеспечить поддержку групп в PBX и Freeswitch</td>\n      <td>'Требуется обеспечить создание и поддержку гру...</td>\n      <td>Тверь 15.11.2022</td>\n      <td>!Critical,#BackEnd,#FrontEnd,*PBX,Следующий сп...</td>\n    </tr>\n    <tr>\n      <th>29</th>\n      <td>109</td>\n      <td>https://gitlab.mob112.ru/business/supervisor/-...</td>\n      <td>Комплексное тестирование работы операторов сте...</td>\n      <td>'**Создать стенд который позволяет:**\\r\\n- Ото...</td>\n      <td>NaN</td>\n      <td>!Critical,#DevOPS,Тестирование</td>\n    </tr>\n    <tr>\n      <th>30</th>\n      <td>111</td>\n      <td>https://gitlab.mob112.ru/business/supervisor/-...</td>\n      <td>Прерывание текущего диалога с переведенным або...</td>\n      <td>'При разговоре с переведенным абонентом и пост...</td>\n      <td>NaN</td>\n      <td>!Bugs,!Critical,#FrontEnd,#Phone</td>\n    </tr>\n    <tr>\n      <th>31</th>\n      <td>112</td>\n      <td>https://gitlab.mob112.ru/business/supervisor/-...</td>\n      <td>Количество операторов в сети не отображается в...</td>\n      <td>'- [ ] FrontEnd\\r\\n- [ ] Phone</td>\n      <td>NaN</td>\n      <td>!Bugs,!Critical,#FrontEnd</td>\n    </tr>\n    <tr>\n      <th>32</th>\n      <td>113</td>\n      <td>https://gitlab.mob112.ru/business/supervisor/-...</td>\n      <td>Переведённые звонки сбрасываются в момент пост...</td>\n      <td>'- [ ] FrontEnd\\r\\n\\r\\n![Untitled](/uploads/db...</td>\n      <td>NaN</td>\n      <td>!Bugs,!Critical,#FrontEnd,#Phone</td>\n    </tr>\n    <tr>\n      <th>33</th>\n      <td>114</td>\n      <td>https://gitlab.mob112.ru/business/supervisor/-...</td>\n      <td>Карточка не создаётся если доходит звонок и ид...</td>\n      <td>'- Исходящий обзвон - тестировали на https://r...</td>\n      <td>NaN</td>\n      <td>!Bugs,!Critical,#DevOPS</td>\n    </tr>\n    <tr>\n      <th>34</th>\n      <td>115</td>\n      <td>https://gitlab.mob112.ru/business/supervisor/-...</td>\n      <td>Количество звонков в очереди всегда 0 в АРМ 122</td>\n      <td>'- [ ] FrontEnd\\r\\n- [ ] BackEnd\\r\\n- [ ] Phone</td>\n      <td>NaN</td>\n      <td>!Bugs,!Critical,#BackEnd,#FrontEnd</td>\n    </tr>\n    <tr>\n      <th>35</th>\n      <td>116</td>\n      <td>https://gitlab.mob112.ru/business/supervisor/-...</td>\n      <td>Прием звонков на АРМ прерывается пока не уйдеш...</td>\n      <td>'- [ ] FrontEnd\\r\\n- [ ] BackEnd\\r\\n- [ ] Phone</td>\n      <td>NaN</td>\n      <td>!Bugs,!Critical,#BackEnd,#FrontEnd,#Phone</td>\n    </tr>\n    <tr>\n      <th>36</th>\n      <td>117</td>\n      <td>https://gitlab.mob112.ru/business/supervisor/-...</td>\n      <td>Приоритет APM телефонов при одновременном нахо...</td>\n      <td>'- [ ] Phone\\r\\n\\r\\nЗвонок обходит операторов ...</td>\n      <td>NaN</td>\n      <td>#BackEnd,#FrontEnd,#Phone</td>\n    </tr>\n    <tr>\n      <th>37</th>\n      <td>118</td>\n      <td>https://gitlab.mob112.ru/business/supervisor/-...</td>\n      <td>Задержка передачи карточки при переводе звонка...</td>\n      <td>'- при переводе звонка между операторами карто...</td>\n      <td>NaN</td>\n      <td>#BackEnd,#FrontEnd</td>\n    </tr>\n    <tr>\n      <th>38</th>\n      <td>120</td>\n      <td>https://gitlab.mob112.ru/business/supervisor/-...</td>\n      <td>Наличие очереди при исходящем обзвоне</td>\n      <td>'- недопустима очередь при исходящем обзвоне\\r...</td>\n      <td>NaN</td>\n      <td>!Bugs,!Critical,#BackEnd</td>\n    </tr>\n    <tr>\n      <th>39</th>\n      <td>121</td>\n      <td>https://gitlab.mob112.ru/business/supervisor/-...</td>\n      <td>Некорректная логика распределения \"на всех одн...</td>\n      <td>'- [ ] Phone</td>\n      <td>NaN</td>\n      <td>!Bugs,!Critical,#BackEnd,#FrontEnd,Требуют обс...</td>\n    </tr>\n    <tr>\n      <th>40</th>\n      <td>122</td>\n      <td>https://gitlab.mob112.ru/business/supervisor/-...</td>\n      <td>Проблемы со звуком и сохранением его настроек</td>\n      <td>'- Брак по звуку (плохая слышимость) кодеки, у...</td>\n      <td>NaN</td>\n      <td>!Bugs,!Critical,#FrontEnd</td>\n    </tr>\n    <tr>\n      <th>41</th>\n      <td>125</td>\n      <td>https://gitlab.mob112.ru/business/supervisor/-...</td>\n      <td>Вызываемый абонент исходящей компании по обзво...</td>\n      <td>'- [ ] FrontEnd\\r\\n- [ ] BackEnd</td>\n      <td>NaN</td>\n      <td>!Bugs,!Critical,#BackEnd,#FrontEnd</td>\n    </tr>\n    <tr>\n      <th>42</th>\n      <td>126</td>\n      <td>https://gitlab.mob112.ru/business/supervisor/-...</td>\n      <td>В интерфейсе создания обращения не указывается...</td>\n      <td>'В форме интерфейсе создания обращения не указ...</td>\n      <td>Тверь 29.11.2022</td>\n      <td>!Bugs,!Critical</td>\n    </tr>\n    <tr>\n      <th>43</th>\n      <td>129</td>\n      <td>https://gitlab.mob112.ru/business/supervisor/-...</td>\n      <td>Ошибка создания карточки после принятия звонков</td>\n      <td>'\"зависают\" звонки -  звонок принят, карточка ...</td>\n      <td>NaN</td>\n      <td>!Bugs,!Critical,#FrontEnd</td>\n    </tr>\n    <tr>\n      <th>44</th>\n      <td>130</td>\n      <td>https://gitlab.mob112.ru/business/supervisor/-...</td>\n      <td>Бесконечная загрузка списка карточек</td>\n      <td>'- [ ] FrontEnd</td>\n      <td>NaN</td>\n      <td>!Bugs,!Critical,#FrontEnd</td>\n    </tr>\n    <tr>\n      <th>45</th>\n      <td>131</td>\n      <td>https://gitlab.mob112.ru/business/supervisor/-...</td>\n      <td>Ошибка перехода по заголовку миникарточки звон...</td>\n      <td>'- Переход по заголовку миникарточки звонка по...</td>\n      <td>NaN</td>\n      <td>!Bugs,!Critical,#FrontEnd</td>\n    </tr>\n    <tr>\n      <th>46</th>\n      <td>132</td>\n      <td>https://gitlab.mob112.ru/business/supervisor/-...</td>\n      <td>Ошибка сохранения карточек в системе</td>\n      <td>'- скопировать номер входящего звонка\\r\\n- пер...</td>\n      <td>NaN</td>\n      <td>!Bugs,!Critical,#BackEnd,#FrontEnd</td>\n    </tr>\n    <tr>\n      <th>47</th>\n      <td>133</td>\n      <td>https://gitlab.mob112.ru/business/supervisor/-...</td>\n      <td>Некорректное создание карточки  без номера тел...</td>\n      <td>NaN</td>\n      <td>NaN</td>\n      <td>!Bugs,!Critical,#FrontEnd</td>\n    </tr>\n    <tr>\n      <th>48</th>\n      <td>134</td>\n      <td>https://gitlab.mob112.ru/business/supervisor/-...</td>\n      <td>Ошибка при попытке изменить карточку \"Expected...</td>\n      <td>'![photo_2022-12-05_22-17-39](/uploads/bc4b4d7...</td>\n      <td>NaN</td>\n      <td>!Bugs,!Critical,#FrontEnd</td>\n    </tr>\n    <tr>\n      <th>49</th>\n      <td>135</td>\n      <td>https://gitlab.mob112.ru/business/supervisor/-...</td>\n      <td>Ошибка обнуления счетчика поствызывной обработ...</td>\n      <td>'- возможно пропадет если ходить патчем при за...</td>\n      <td>NaN</td>\n      <td>!Bugs,!Critical,#FrontEnd</td>\n    </tr>\n    <tr>\n      <th>50</th>\n      <td>136</td>\n      <td>https://gitlab.mob112.ru/business/supervisor/-...</td>\n      <td>При изменении статуса кп на \"завершено\" продол...</td>\n      <td>'![photo_2022-12-06_10-08-30](/uploads/7138457...</td>\n      <td>NaN</td>\n      <td>!Bugs,!Critical,#FrontEnd</td>\n    </tr>\n  </tbody>\n</table>\n</div>"
     },
     "execution_count": 1402,
     "metadata": {},
     "output_type": "execute_result"
    }
   ],
   "source": [
    "df"
   ],
   "metadata": {
    "collapsed": false
   }
  },
  {
   "cell_type": "code",
   "execution_count": 1403,
   "outputs": [],
   "source": [
    "replace_list = [\n",
    "    '\\!.*.png\\)',\n",
    "    '\\!.*.jpg\\)',\n",
    "    '\\!.*.mov\\)',\n",
    "]"
   ],
   "metadata": {
    "collapsed": false
   }
  },
  {
   "cell_type": "code",
   "execution_count": 1404,
   "outputs": [],
   "source": [
    "for replacement in replace_list:\n",
    "    df = df.replace(to_replace=replacement, value='', regex=True)"
   ],
   "metadata": {
    "collapsed": false
   }
  },
  {
   "cell_type": "code",
   "execution_count": 1405,
   "outputs": [],
   "source": [
    "stat = {\n",
    "    '[x] FrontEnd': '- Фронтенд готов',\n",
    "    '[x] Front': '- Фронтенд готов',\n",
    "    '[x] BackEnd': '- Бэкенд готов',\n",
    "    '[x] Backend': '- Бэкенд готов',\n",
    "    '[x] Phone': '- Телефония готова',\n",
    "    '[x] Design': '- Дизайн готов',\n",
    "    '[ ] FrontEnd ': '- Фронтенд в работе: ',\n",
    "    '[ ] Frontend ': '- Фронтенд в работе: ',\n",
    "    '[ ] Front:': '- Фронтенд в работе: ',\n",
    "    '[ ] FronEnd:': '- Фронтенд в работе: ',\n",
    "    '[ ] FrontEnd:': '- Фронтенд в работе: ',\n",
    "    '[ ] BackEnd ': '- Бэкенд в работе: ',\n",
    "    '[ ] Backend ': '- Бэкенд в работе: ',\n",
    "    '[ ] BackEnd: ': '- Бэкенд в работе: ',\n",
    "    '[ ] Backend:': '- Бэкенд в работе: ',\n",
    "    '[ ] Phone ': '- Телефония в работе: ',\n",
    "    '[ ] FrontEnd': '- Фронтендер не назначен',\n",
    "    '[ ] Front': '- Фронтендер не назначен',\n",
    "    '[ ] BackEnd': '- Бэкендер не назначен',\n",
    "    '[ ] Phone': '- Телефонист не назначен',\n",
    "    '[ ] Mobile': '- Специалист мобильной разработки не назначен',\n",
    "    '[ ] Design': '- Дезайнер не назначен',\n",
    "    '[ ] Android': '- Разработчик на Android не назначен',\n",
    "    '[ ] iOS': '- Разработчик на iOS не назначен',\n",
    "    '[ ] DevOps': '- DevOps не назначен',\n",
    "}"
   ],
   "metadata": {
    "collapsed": false
   }
  },
  {
   "cell_type": "code",
   "execution_count": 1406,
   "id": "f9495339",
   "metadata": {},
   "outputs": [],
   "source": [
    "for i in stat.items():\n",
    "    df = df.applymap(lambda x: x.replace(i[0], i[1]) if (isinstance(x, str)) else x)"
   ]
  },
  {
   "cell_type": "code",
   "execution_count": 1407,
   "id": "23e161c5",
   "metadata": {},
   "outputs": [],
   "source": [
    "empl = {\n",
    "    '@i.ahmetgareev': 'Ахметгареев Ильмир',\n",
    "    'Гульшат': 'Губайдуллина Гульшат',\n",
    "    '@g.gubaydullina': 'Губайдуллина Гульшат',\n",
    "    '@gaysin': 'Гайсин Тимур',\n",
    "    '@ArsenMerkin': 'Меркин Арсен',\n",
    "    '@kuznecov': 'Кузнецов Андрей',\n",
    "    '@fayzullin': 'Файзуллин Арслан',\n",
    "    '@nasibullin': 'Насибуллин Тимерьян',\n",
    "    '@mannanov': 'Маннанов Марат',\n",
    "    '@halilov': 'Халилов Артур',\n",
    "    '@stepan': 'Холин Степан',\n",
    "    '@Rsagadatov': 'Сагадатов Рауль',\n",
    "    '@boev': 'Боев Егор',\n",
    "    '@ar.fayzullin': 'Файзуллин Артур'\n",
    "}"
   ]
  },
  {
   "cell_type": "code",
   "execution_count": 1408,
   "id": "93827311",
   "metadata": {},
   "outputs": [],
   "source": [
    "for i in empl.items():\n",
    "    df = df.applymap(lambda x: x.replace(i[0], i[1]) if (isinstance(x, str)) else x)"
   ]
  },
  {
   "cell_type": "code",
   "execution_count": 1409,
   "id": "31dd5783",
   "metadata": {},
   "outputs": [],
   "source": [
    "city = {'Тверь': 'г. Тверь',\n",
    "        'Брянск': 'г. Брянск'}"
   ]
  },
  {
   "cell_type": "code",
   "execution_count": 1410,
   "id": "9336aa42",
   "metadata": {},
   "outputs": [],
   "source": [
    "for i in city.items():\n",
    "    df = df.applymap(lambda x: x.replace(i[0], i[1]) if (isinstance(x, str)) else x)"
   ]
  },
  {
   "cell_type": "code",
   "execution_count": 1411,
   "id": "a9b590e6",
   "metadata": {},
   "outputs": [],
   "source": [
    "df = df.sort_values(by=['№'], ascending=False)"
   ]
  },
  {
   "cell_type": "code",
   "execution_count": 1412,
   "id": "5a3ff1ca",
   "metadata": {},
   "outputs": [],
   "source": [
    "errors = {\n",
    "    '!Critical': 'СРОЧНО',\n",
    "    '!Bugs': 'БАГ',\n",
    "    'Требуют обсуждения': 'ОБСУДИТЬ',\n",
    "    '#BackEnd': 'бэкенд',\n",
    "    '#FrontEnd': 'фронтенд',\n",
    "    '#Phone': 'телефония',\n",
    "    '#Design': 'дизайн',\n",
    "    '*Region': 'регион',\n",
    "    '*PBX': 'вкц',\n",
    "    '*Survey': 'опросник',\n",
    "    'Готово на бэке': 'бэкенд готов',\n",
    "    'Текущий спринт': '',\n",
    "    'Следующий спринт': '',\n",
    "    'Тестирование': 'тестирование',\n",
    "    'Junior': 'легко',\n",
    "    'В работе': 'в работе',\n",
    "}"
   ]
  },
  {
   "cell_type": "code",
   "execution_count": 1413,
   "id": "9beab746",
   "metadata": {},
   "outputs": [],
   "source": [
    "for i in errors.items():\n",
    "    df = df.applymap(lambda x: x.replace(i[0], i[1]) if (isinstance(x, str)) else x)"
   ]
  },
  {
   "cell_type": "code",
   "execution_count": 1414,
   "id": "aa1e263c",
   "metadata": {},
   "outputs": [],
   "source": [
    "fixes = {\n",
    "    '**': '',\n",
    "    '\\'': '',\n",
    "    '- [': '[',\n",
    "    ',': ', ',\n",
    "    '  ': ' ',\n",
    "    ', , ': ', ',\n",
    "    '::': ':',\n",
    "    '\\r\\n\\r\\n\\r\\n\\r\\n': '\\r\\n\\r\\n',\n",
    "    '\\r\\n\\r\\n': '\\r\\n',\n",
    "    '- - ': '- ',\n",
    "}"
   ]
  },
  {
   "cell_type": "code",
   "execution_count": 1415,
   "id": "e1d7bc9d",
   "metadata": {},
   "outputs": [],
   "source": [
    "for i in fixes.items():\n",
    "    df = df.applymap(lambda x: x.replace(i[0], i[1]) if (isinstance(x, str)) else x)"
   ]
  },
  {
   "cell_type": "code",
   "execution_count": 1416,
   "id": "f1b50676",
   "metadata": {},
   "outputs": [],
   "source": [
    "strip = [\n",
    "    ', ',\n",
    "    '\\r\\n\t',\n",
    "    '\\r\\n',\n",
    "    ' ',\n",
    "]"
   ]
  },
  {
   "cell_type": "code",
   "execution_count": 1417,
   "outputs": [],
   "source": [
    "for i in strip:\n",
    "    df = df.applymap(lambda x: x.rstrip(i) if (isinstance(x, str)) else x)"
   ],
   "metadata": {
    "collapsed": false
   }
  },
  {
   "cell_type": "code",
   "execution_count": 1418,
   "outputs": [],
   "source": [
    "for i in strip:\n",
    "    df = df.applymap(lambda x: x.lstrip(i) if (isinstance(x, str)) else x)"
   ],
   "metadata": {
    "collapsed": false
   }
  },
  {
   "cell_type": "code",
   "execution_count": 1419,
   "outputs": [],
   "source": [
    "for i in fixes.items():\n",
    "    df = df.applymap(lambda x: x.replace(i[0], i[1]) if (isinstance(x, str)) else x)"
   ],
   "metadata": {
    "collapsed": false
   }
  },
  {
   "cell_type": "code",
   "execution_count": 1420,
   "id": "55f115da",
   "metadata": {},
   "outputs": [],
   "source": [
    "df = df.applymap(lambda x: x.rstrip('\\r\\n\t') if (isinstance(x, str)) else x)"
   ]
  },
  {
   "cell_type": "code",
   "execution_count": 1421,
   "id": "83b7ec5f",
   "metadata": {},
   "outputs": [],
   "source": [
    "df = df.applymap(lambda x: x.lstrip(' ') if (isinstance(x, str)) else x)"
   ]
  },
  {
   "cell_type": "code",
   "execution_count": 1422,
   "outputs": [],
   "source": [
    "df.fillna('', inplace=True)"
   ],
   "metadata": {
    "collapsed": false
   }
  },
  {
   "cell_type": "code",
   "execution_count": 1423,
   "id": "4c8de11e",
   "metadata": {},
   "outputs": [
    {
     "data": {
      "text/plain": "      №                                             Ссылка  \\\n50  136  https://gitlab.mob112.ru/business/supervisor/-...   \n49  135  https://gitlab.mob112.ru/business/supervisor/-...   \n48  134  https://gitlab.mob112.ru/business/supervisor/-...   \n47  133  https://gitlab.mob112.ru/business/supervisor/-...   \n46  132  https://gitlab.mob112.ru/business/supervisor/-...   \n45  131  https://gitlab.mob112.ru/business/supervisor/-...   \n44  130  https://gitlab.mob112.ru/business/supervisor/-...   \n43  129  https://gitlab.mob112.ru/business/supervisor/-...   \n42  126  https://gitlab.mob112.ru/business/supervisor/-...   \n41  125  https://gitlab.mob112.ru/business/supervisor/-...   \n40  122  https://gitlab.mob112.ru/business/supervisor/-...   \n39  121  https://gitlab.mob112.ru/business/supervisor/-...   \n38  120  https://gitlab.mob112.ru/business/supervisor/-...   \n37  118  https://gitlab.mob112.ru/business/supervisor/-...   \n36  117  https://gitlab.mob112.ru/business/supervisor/-...   \n35  116  https://gitlab.mob112.ru/business/supervisor/-...   \n34  115  https://gitlab.mob112.ru/business/supervisor/-...   \n33  114  https://gitlab.mob112.ru/business/supervisor/-...   \n32  113  https://gitlab.mob112.ru/business/supervisor/-...   \n31  112  https://gitlab.mob112.ru/business/supervisor/-...   \n30  111  https://gitlab.mob112.ru/business/supervisor/-...   \n29  109  https://gitlab.mob112.ru/business/supervisor/-...   \n28  108  https://gitlab.mob112.ru/business/supervisor/-...   \n27  106  https://gitlab.mob112.ru/business/supervisor/-...   \n26  100  https://gitlab.mob112.ru/business/supervisor/-...   \n25   99  https://gitlab.mob112.ru/business/supervisor/-...   \n24   97  https://gitlab.mob112.ru/business/supervisor/-...   \n23   96  https://gitlab.mob112.ru/business/supervisor/-...   \n22   95  https://gitlab.mob112.ru/business/supervisor/-...   \n21   93  https://gitlab.mob112.ru/business/supervisor/-...   \n20   92  https://gitlab.mob112.ru/business/supervisor/-...   \n19   90  https://gitlab.mob112.ru/business/supervisor/-...   \n18   88  https://gitlab.mob112.ru/business/supervisor/-...   \n17   87  https://gitlab.mob112.ru/business/supervisor/-...   \n16   86  https://gitlab.mob112.ru/business/supervisor/-...   \n15   84  https://gitlab.mob112.ru/business/supervisor/-...   \n14   82  https://gitlab.mob112.ru/business/supervisor/-...   \n13   78  https://gitlab.mob112.ru/business/supervisor/-...   \n12   77  https://gitlab.mob112.ru/business/supervisor/-...   \n11   76  https://gitlab.mob112.ru/business/supervisor/-...   \n10   75  https://gitlab.mob112.ru/business/supervisor/-...   \n9    67  https://gitlab.mob112.ru/business/supervisor/-...   \n8    63  https://gitlab.mob112.ru/business/supervisor/-...   \n7    60  https://gitlab.mob112.ru/business/supervisor/-...   \n6    57  https://gitlab.mob112.ru/business/supervisor/-...   \n5    53  https://gitlab.mob112.ru/business/supervisor/-...   \n4    48  https://gitlab.mob112.ru/business/supervisor/-...   \n3    38  https://gitlab.mob112.ru/business/supervisor/-...   \n2    34  https://gitlab.mob112.ru/business/supervisor/-...   \n1    11  https://gitlab.mob112.ru/business/supervisor/-...   \n0     4  https://gitlab.mob112.ru/business/supervisor/-...   \n\n                                            Заголовок  \\\n50  При изменении статуса кп на \"завершено\" продол...   \n49  Ошибка обнуления счетчика поствызывной обработ...   \n48  Ошибка при попытке изменить карточку \"Expected...   \n47  Некорректное создание карточки без номера теле...   \n46               Ошибка сохранения карточек в системе   \n45  Ошибка перехода по заголовку миникарточки звон...   \n44               Бесконечная загрузка списка карточек   \n43    Ошибка создания карточки после принятия звонков   \n42  В интерфейсе создания обращения не указывается...   \n41  Вызываемый абонент исходящей компании по обзво...   \n40      Проблемы со звуком и сохранением его настроек   \n39  Некорректная логика распределения \"на всех одн...   \n38              Наличие очереди при исходящем обзвоне   \n37  Задержка передачи карточки при переводе звонка...   \n36  Приоритет APM телефонов при одновременном нахо...   \n35  Прием звонков на АРМ прерывается пока не уйдеш...   \n34    Количество звонков в очереди всегда 0 в АРМ 122   \n33  Карточка не создаётся если доходит звонок и ид...   \n32  Переведённые звонки сбрасываются в момент пост...   \n31  Количество операторов в сети не отображается в...   \n30  Прерывание текущего диалога с переведенным або...   \n29  Комплексное тестирование работы операторов сте...   \n28      Обеспечить поддержку групп в PBX и Freeswitch   \n27  Активность кнопки Сохранить в карточке обращен...   \n26  В зоне анкетирования форма принимает и выводит...   \n25  При создании обращения в форме обращения можно...   \n24  В адресной книге PBX формы \"Добавить номер тел...   \n23      Обеспечить передачу в С-112 основных сведений   \n22  Обеспечить передачу пользователю МП информации...   \n21                     Обеспечить синхронизацию полей   \n20  Обеспечить автоматическую отправку СМС-сообщен...   \n19   Время перевода в очереди на следующего оператора   \n18                       Преобразование текста в речь   \n17  Интерактивное голсовое меню с распознованием г...   \n16                                 Распознование речи   \n15  Cброс статуса номера телефона в компании Автоо...   \n14  Предусмотреть настройкой очереди отображения к...   \n13  На освободившихся операторов не распределяются...   \n12        Возможность осуществления исходящего вызова   \n11  Реализовать автовозвращение операторов с резер...   \n10      Операторы не стабильно возвращаются в очередь   \n9   Окно подтверждения получения уведомлений в бра...   \n8   Выверить логику отображения и занятости карточ...   \n7         Доработки интерфейса анкетирования (survey)   \n6                         Не работает перехват звонка   \n5                       Сортировка карточек обращений   \n4   При использовании в пароле символов используем...   \n3   Ограничене доступа к функциям Суфлер, конферен...   \n2                Нет функционала переадресации звонка   \n1                                  Cправочник адресов   \n0                            Расписание маршрутизации   \n\n                 Описание задач за 07 декабря (среда)                  Дата  \\\n50  - сделать как для других статусов, патчем на и...                         \n49  - возможно пропадет если ходить патчем при зав...                         \n48  - Фронтенд готов Насибуллин Тимерьян \\r\\n- htt...                         \n47                                                                            \n46  - скопировать номер входящего звонка\\r\\n- пере...                         \n45  - Переход по заголовку миникарточки звонка по ...                         \n44                           - Фронтендер не назначен                         \n43  \"зависают\" звонки - звонок принят, карточка не...                         \n42  В форме интерфейсе создания обращения не указы...   г. Тверь 29.11.2022   \n41  - Фронтендер не назначен\\r\\n- Бэкендер не назн...                         \n40  - Брак по звуку (плохая слышимость) кодеки, ур...                         \n39                           - Телефонист не назначен                         \n38  - недопустима очередь при исходящем обзвоне\\r\\...                         \n37  - при переводе звонка между операторами карточ...                         \n36  - Телефонист не назначен\\r\\nЗвонок обходит опе...                         \n35  - Фронтендер не назначен\\r\\n- Бэкендер не назн...                         \n34  - Фронтендер не назначен\\r\\n- Бэкендер не назн...                         \n33  - Исходящий обзвон - тестировали на https://re...                         \n32  - Фронтендер не назначен\\r\\n![Untitled](/uploa...                         \n31  - Фронтендер не назначен\\r\\n- Телефонист не на...                         \n30  При разговоре с переведенным абонентом и посту...                         \n29  Создать стенд который позволяет:\\r\\n- Отобража...                         \n28  Требуется обеспечить создание и поддержку груп...   г. Тверь 15.11.2022   \n27  Кнопка \"Сохранить\" в карточке обращения и заяв...   г. Тверь 15.11.2022   \n26  - Фронтенд в работе: Артем\\r\\n- https://gitlab...                         \n25                           - Фронтендер не назначен                         \n24                           - Фронтендер не назначен                         \n23  Обеспечить корректную передачу в Систему-112 г...  г. Брянск 22.11.2022   \n22  Обеспечить передачу пользователю Мобильного пр...  г. Брянск 22.11.2022   \n21  Обеспечить синхронизацию полей карточки происш...  г. Брянск 22.11.2022   \n20  Сформированное мобильным приложением СМС-сообщ...  г. Брянск 22.11.2022   \n19  В интерфейсе PBX, в настройках очереди, добави...   г. Тверь 15.11.2022   \n18                                                                            \n17                                                                            \n16                                                                            \n15  Предусмотреть в исходящей компании автообзвона...   г. Тверь 15.11.2022   \n14  Предусмотреть настройкой очереди (в интерфейсе...   г. Тверь 15.11.2022   \n13  На освободившихся операторов не распределяются...   г. Тверь 15.11.2022   \n12  Возможность осуществления исходящего вызова (н...   г. Тверь 15.11.2022   \n11  Реализовать автовозвращение операторов с резер...   г. Тверь 15.11.2022   \n10  Операторы не стабильно возвращаются в очередь ...   г. Тверь 15.11.2022   \n9   В браузере Chromium при каждом запуске браузер...   г. Тверь 15.11.2022   \n8   Выверить логику отображения и занятости карточ...   г. Тверь 15.11.2022   \n7   [x] 1. Требуется визуальное блочное разделение...   г. Тверь 15.11.2022   \n6   Не работает перехват звонка между операторами,...   г. Тверь 15.11.2022   \n5   Кривая сортировка. Закрытая карточка стала пер...   г. Тверь 15.11.2022   \n4   При использовании в пароле пользователя символ...   г. Тверь 15.11.2022   \n3   Суфлер, конференцию и перехват звонка, разреши...   г. Тверь 15.11.2022   \n2   Отсутствует интерфейс и функционал переадресац...   г. Тверь 15.11.2022   \n1   Нужен ГАР (справочник адресов, с возможностью ...   г. Тверь 15.11.2022   \n0   Необходимо реализовать расписание маршрутизаци...   г. Тверь 15.11.2022   \n\n                                                 Тэги  \n50                              БАГ, СРОЧНО, фронтенд  \n49                              БАГ, СРОЧНО, фронтенд  \n48                              БАГ, СРОЧНО, фронтенд  \n47                              БАГ, СРОЧНО, фронтенд  \n46                      БАГ, СРОЧНО, бэкенд, фронтенд  \n45                              БАГ, СРОЧНО, фронтенд  \n44                              БАГ, СРОЧНО, фронтенд  \n43                              БАГ, СРОЧНО, фронтенд  \n42                                        БАГ, СРОЧНО  \n41                      БАГ, СРОЧНО, бэкенд, фронтенд  \n40                              БАГ, СРОЧНО, фронтенд  \n39            БАГ, СРОЧНО, бэкенд, фронтенд, ОБСУДИТЬ  \n38                                БАГ, СРОЧНО, бэкенд  \n37                                   бэкенд, фронтенд  \n36                        бэкенд, фронтенд, телефония  \n35           БАГ, СРОЧНО, бэкенд, фронтенд, телефония  \n34                      БАГ, СРОЧНО, бэкенд, фронтенд  \n33                               БАГ, СРОЧНО, #DevOPS  \n32                   БАГ, СРОЧНО, фронтенд, телефония  \n31                              БАГ, СРОЧНО, фронтенд  \n30                   БАГ, СРОЧНО, фронтенд, телефония  \n29                      СРОЧНО, #DevOPS, тестирование  \n28                      СРОЧНО, бэкенд, фронтенд, вкц  \n27                                   фронтенд, регион  \n26                                    фронтенд, легко  \n25                                    фронтенд, легко  \n24                               фронтенд, вкц, легко  \n23                           бэкенд, регион, ОБСУДИТЬ  \n22                                          телефония  \n21                               бэкенд, тестирование  \n20                                          телефония  \n19                   бэкенд, фронтенд, телефония, вкц  \n18                                                     \n17                                                     \n16                                                     \n15        СРОЧНО, бэкенд, фронтенд, вкц, бэкенд готов  \n14            бэкенд, фронтенд, вкц, регион, в работе  \n13  БАГ, СРОЧНО, бэкенд, телефония, регион, тестир...  \n12  СРОЧНО, бэкенд, дизайн, фронтенд, телефония, р...  \n11                           СРОЧНО, фронтенд, регион  \n10  БАГ, СРОЧНО, бэкенд, телефония, регион, тестир...  \n9                       БАГ, СРОЧНО, фронтенд, регион  \n8             БАГ, бэкенд, фронтенд, регион, ОБСУДИТЬ  \n7          бэкенд, дизайн, фронтенд, регион, опросник  \n6                    БАГ, СРОЧНО, фронтенд, телефония  \n5                       БАГ, СРОЧНО, фронтенд, регион  \n4                               БАГ, фронтенд, регион  \n3                      фронтенд, регион, бэкенд готов  \n2   бэкенд, дизайн, фронтенд, телефония, #Support,...  \n1                            бэкенд, фронтенд, регион  \n0   СРОЧНО, бэкенд, фронтенд, телефония, вкц, ОБСУ...  ",
      "text/html": "<div>\n<style scoped>\n    .dataframe tbody tr th:only-of-type {\n        vertical-align: middle;\n    }\n\n    .dataframe tbody tr th {\n        vertical-align: top;\n    }\n\n    .dataframe thead th {\n        text-align: right;\n    }\n</style>\n<table border=\"1\" class=\"dataframe\">\n  <thead>\n    <tr style=\"text-align: right;\">\n      <th></th>\n      <th>№</th>\n      <th>Ссылка</th>\n      <th>Заголовок</th>\n      <th>Описание задач за 07 декабря (среда)</th>\n      <th>Дата</th>\n      <th>Тэги</th>\n    </tr>\n  </thead>\n  <tbody>\n    <tr>\n      <th>50</th>\n      <td>136</td>\n      <td>https://gitlab.mob112.ru/business/supervisor/-...</td>\n      <td>При изменении статуса кп на \"завершено\" продол...</td>\n      <td>- сделать как для других статусов, патчем на и...</td>\n      <td></td>\n      <td>БАГ, СРОЧНО, фронтенд</td>\n    </tr>\n    <tr>\n      <th>49</th>\n      <td>135</td>\n      <td>https://gitlab.mob112.ru/business/supervisor/-...</td>\n      <td>Ошибка обнуления счетчика поствызывной обработ...</td>\n      <td>- возможно пропадет если ходить патчем при зав...</td>\n      <td></td>\n      <td>БАГ, СРОЧНО, фронтенд</td>\n    </tr>\n    <tr>\n      <th>48</th>\n      <td>134</td>\n      <td>https://gitlab.mob112.ru/business/supervisor/-...</td>\n      <td>Ошибка при попытке изменить карточку \"Expected...</td>\n      <td>- Фронтенд готов Насибуллин Тимерьян \\r\\n- htt...</td>\n      <td></td>\n      <td>БАГ, СРОЧНО, фронтенд</td>\n    </tr>\n    <tr>\n      <th>47</th>\n      <td>133</td>\n      <td>https://gitlab.mob112.ru/business/supervisor/-...</td>\n      <td>Некорректное создание карточки без номера теле...</td>\n      <td></td>\n      <td></td>\n      <td>БАГ, СРОЧНО, фронтенд</td>\n    </tr>\n    <tr>\n      <th>46</th>\n      <td>132</td>\n      <td>https://gitlab.mob112.ru/business/supervisor/-...</td>\n      <td>Ошибка сохранения карточек в системе</td>\n      <td>- скопировать номер входящего звонка\\r\\n- пере...</td>\n      <td></td>\n      <td>БАГ, СРОЧНО, бэкенд, фронтенд</td>\n    </tr>\n    <tr>\n      <th>45</th>\n      <td>131</td>\n      <td>https://gitlab.mob112.ru/business/supervisor/-...</td>\n      <td>Ошибка перехода по заголовку миникарточки звон...</td>\n      <td>- Переход по заголовку миникарточки звонка по ...</td>\n      <td></td>\n      <td>БАГ, СРОЧНО, фронтенд</td>\n    </tr>\n    <tr>\n      <th>44</th>\n      <td>130</td>\n      <td>https://gitlab.mob112.ru/business/supervisor/-...</td>\n      <td>Бесконечная загрузка списка карточек</td>\n      <td>- Фронтендер не назначен</td>\n      <td></td>\n      <td>БАГ, СРОЧНО, фронтенд</td>\n    </tr>\n    <tr>\n      <th>43</th>\n      <td>129</td>\n      <td>https://gitlab.mob112.ru/business/supervisor/-...</td>\n      <td>Ошибка создания карточки после принятия звонков</td>\n      <td>\"зависают\" звонки - звонок принят, карточка не...</td>\n      <td></td>\n      <td>БАГ, СРОЧНО, фронтенд</td>\n    </tr>\n    <tr>\n      <th>42</th>\n      <td>126</td>\n      <td>https://gitlab.mob112.ru/business/supervisor/-...</td>\n      <td>В интерфейсе создания обращения не указывается...</td>\n      <td>В форме интерфейсе создания обращения не указы...</td>\n      <td>г. Тверь 29.11.2022</td>\n      <td>БАГ, СРОЧНО</td>\n    </tr>\n    <tr>\n      <th>41</th>\n      <td>125</td>\n      <td>https://gitlab.mob112.ru/business/supervisor/-...</td>\n      <td>Вызываемый абонент исходящей компании по обзво...</td>\n      <td>- Фронтендер не назначен\\r\\n- Бэкендер не назн...</td>\n      <td></td>\n      <td>БАГ, СРОЧНО, бэкенд, фронтенд</td>\n    </tr>\n    <tr>\n      <th>40</th>\n      <td>122</td>\n      <td>https://gitlab.mob112.ru/business/supervisor/-...</td>\n      <td>Проблемы со звуком и сохранением его настроек</td>\n      <td>- Брак по звуку (плохая слышимость) кодеки, ур...</td>\n      <td></td>\n      <td>БАГ, СРОЧНО, фронтенд</td>\n    </tr>\n    <tr>\n      <th>39</th>\n      <td>121</td>\n      <td>https://gitlab.mob112.ru/business/supervisor/-...</td>\n      <td>Некорректная логика распределения \"на всех одн...</td>\n      <td>- Телефонист не назначен</td>\n      <td></td>\n      <td>БАГ, СРОЧНО, бэкенд, фронтенд, ОБСУДИТЬ</td>\n    </tr>\n    <tr>\n      <th>38</th>\n      <td>120</td>\n      <td>https://gitlab.mob112.ru/business/supervisor/-...</td>\n      <td>Наличие очереди при исходящем обзвоне</td>\n      <td>- недопустима очередь при исходящем обзвоне\\r\\...</td>\n      <td></td>\n      <td>БАГ, СРОЧНО, бэкенд</td>\n    </tr>\n    <tr>\n      <th>37</th>\n      <td>118</td>\n      <td>https://gitlab.mob112.ru/business/supervisor/-...</td>\n      <td>Задержка передачи карточки при переводе звонка...</td>\n      <td>- при переводе звонка между операторами карточ...</td>\n      <td></td>\n      <td>бэкенд, фронтенд</td>\n    </tr>\n    <tr>\n      <th>36</th>\n      <td>117</td>\n      <td>https://gitlab.mob112.ru/business/supervisor/-...</td>\n      <td>Приоритет APM телефонов при одновременном нахо...</td>\n      <td>- Телефонист не назначен\\r\\nЗвонок обходит опе...</td>\n      <td></td>\n      <td>бэкенд, фронтенд, телефония</td>\n    </tr>\n    <tr>\n      <th>35</th>\n      <td>116</td>\n      <td>https://gitlab.mob112.ru/business/supervisor/-...</td>\n      <td>Прием звонков на АРМ прерывается пока не уйдеш...</td>\n      <td>- Фронтендер не назначен\\r\\n- Бэкендер не назн...</td>\n      <td></td>\n      <td>БАГ, СРОЧНО, бэкенд, фронтенд, телефония</td>\n    </tr>\n    <tr>\n      <th>34</th>\n      <td>115</td>\n      <td>https://gitlab.mob112.ru/business/supervisor/-...</td>\n      <td>Количество звонков в очереди всегда 0 в АРМ 122</td>\n      <td>- Фронтендер не назначен\\r\\n- Бэкендер не назн...</td>\n      <td></td>\n      <td>БАГ, СРОЧНО, бэкенд, фронтенд</td>\n    </tr>\n    <tr>\n      <th>33</th>\n      <td>114</td>\n      <td>https://gitlab.mob112.ru/business/supervisor/-...</td>\n      <td>Карточка не создаётся если доходит звонок и ид...</td>\n      <td>- Исходящий обзвон - тестировали на https://re...</td>\n      <td></td>\n      <td>БАГ, СРОЧНО, #DevOPS</td>\n    </tr>\n    <tr>\n      <th>32</th>\n      <td>113</td>\n      <td>https://gitlab.mob112.ru/business/supervisor/-...</td>\n      <td>Переведённые звонки сбрасываются в момент пост...</td>\n      <td>- Фронтендер не назначен\\r\\n![Untitled](/uploa...</td>\n      <td></td>\n      <td>БАГ, СРОЧНО, фронтенд, телефония</td>\n    </tr>\n    <tr>\n      <th>31</th>\n      <td>112</td>\n      <td>https://gitlab.mob112.ru/business/supervisor/-...</td>\n      <td>Количество операторов в сети не отображается в...</td>\n      <td>- Фронтендер не назначен\\r\\n- Телефонист не на...</td>\n      <td></td>\n      <td>БАГ, СРОЧНО, фронтенд</td>\n    </tr>\n    <tr>\n      <th>30</th>\n      <td>111</td>\n      <td>https://gitlab.mob112.ru/business/supervisor/-...</td>\n      <td>Прерывание текущего диалога с переведенным або...</td>\n      <td>При разговоре с переведенным абонентом и посту...</td>\n      <td></td>\n      <td>БАГ, СРОЧНО, фронтенд, телефония</td>\n    </tr>\n    <tr>\n      <th>29</th>\n      <td>109</td>\n      <td>https://gitlab.mob112.ru/business/supervisor/-...</td>\n      <td>Комплексное тестирование работы операторов сте...</td>\n      <td>Создать стенд который позволяет:\\r\\n- Отобража...</td>\n      <td></td>\n      <td>СРОЧНО, #DevOPS, тестирование</td>\n    </tr>\n    <tr>\n      <th>28</th>\n      <td>108</td>\n      <td>https://gitlab.mob112.ru/business/supervisor/-...</td>\n      <td>Обеспечить поддержку групп в PBX и Freeswitch</td>\n      <td>Требуется обеспечить создание и поддержку груп...</td>\n      <td>г. Тверь 15.11.2022</td>\n      <td>СРОЧНО, бэкенд, фронтенд, вкц</td>\n    </tr>\n    <tr>\n      <th>27</th>\n      <td>106</td>\n      <td>https://gitlab.mob112.ru/business/supervisor/-...</td>\n      <td>Активность кнопки Сохранить в карточке обращен...</td>\n      <td>Кнопка \"Сохранить\" в карточке обращения и заяв...</td>\n      <td>г. Тверь 15.11.2022</td>\n      <td>фронтенд, регион</td>\n    </tr>\n    <tr>\n      <th>26</th>\n      <td>100</td>\n      <td>https://gitlab.mob112.ru/business/supervisor/-...</td>\n      <td>В зоне анкетирования форма принимает и выводит...</td>\n      <td>- Фронтенд в работе: Артем\\r\\n- https://gitlab...</td>\n      <td></td>\n      <td>фронтенд, легко</td>\n    </tr>\n    <tr>\n      <th>25</th>\n      <td>99</td>\n      <td>https://gitlab.mob112.ru/business/supervisor/-...</td>\n      <td>При создании обращения в форме обращения можно...</td>\n      <td>- Фронтендер не назначен</td>\n      <td></td>\n      <td>фронтенд, легко</td>\n    </tr>\n    <tr>\n      <th>24</th>\n      <td>97</td>\n      <td>https://gitlab.mob112.ru/business/supervisor/-...</td>\n      <td>В адресной книге PBX формы \"Добавить номер тел...</td>\n      <td>- Фронтендер не назначен</td>\n      <td></td>\n      <td>фронтенд, вкц, легко</td>\n    </tr>\n    <tr>\n      <th>23</th>\n      <td>96</td>\n      <td>https://gitlab.mob112.ru/business/supervisor/-...</td>\n      <td>Обеспечить передачу в С-112 основных сведений</td>\n      <td>Обеспечить корректную передачу в Систему-112 г...</td>\n      <td>г. Брянск 22.11.2022</td>\n      <td>бэкенд, регион, ОБСУДИТЬ</td>\n    </tr>\n    <tr>\n      <th>22</th>\n      <td>95</td>\n      <td>https://gitlab.mob112.ru/business/supervisor/-...</td>\n      <td>Обеспечить передачу пользователю МП информации...</td>\n      <td>Обеспечить передачу пользователю Мобильного пр...</td>\n      <td>г. Брянск 22.11.2022</td>\n      <td>телефония</td>\n    </tr>\n    <tr>\n      <th>21</th>\n      <td>93</td>\n      <td>https://gitlab.mob112.ru/business/supervisor/-...</td>\n      <td>Обеспечить синхронизацию полей</td>\n      <td>Обеспечить синхронизацию полей карточки происш...</td>\n      <td>г. Брянск 22.11.2022</td>\n      <td>бэкенд, тестирование</td>\n    </tr>\n    <tr>\n      <th>20</th>\n      <td>92</td>\n      <td>https://gitlab.mob112.ru/business/supervisor/-...</td>\n      <td>Обеспечить автоматическую отправку СМС-сообщен...</td>\n      <td>Сформированное мобильным приложением СМС-сообщ...</td>\n      <td>г. Брянск 22.11.2022</td>\n      <td>телефония</td>\n    </tr>\n    <tr>\n      <th>19</th>\n      <td>90</td>\n      <td>https://gitlab.mob112.ru/business/supervisor/-...</td>\n      <td>Время перевода в очереди на следующего оператора</td>\n      <td>В интерфейсе PBX, в настройках очереди, добави...</td>\n      <td>г. Тверь 15.11.2022</td>\n      <td>бэкенд, фронтенд, телефония, вкц</td>\n    </tr>\n    <tr>\n      <th>18</th>\n      <td>88</td>\n      <td>https://gitlab.mob112.ru/business/supervisor/-...</td>\n      <td>Преобразование текста в речь</td>\n      <td></td>\n      <td></td>\n      <td></td>\n    </tr>\n    <tr>\n      <th>17</th>\n      <td>87</td>\n      <td>https://gitlab.mob112.ru/business/supervisor/-...</td>\n      <td>Интерактивное голсовое меню с распознованием г...</td>\n      <td></td>\n      <td></td>\n      <td></td>\n    </tr>\n    <tr>\n      <th>16</th>\n      <td>86</td>\n      <td>https://gitlab.mob112.ru/business/supervisor/-...</td>\n      <td>Распознование речи</td>\n      <td></td>\n      <td></td>\n      <td></td>\n    </tr>\n    <tr>\n      <th>15</th>\n      <td>84</td>\n      <td>https://gitlab.mob112.ru/business/supervisor/-...</td>\n      <td>Cброс статуса номера телефона в компании Автоо...</td>\n      <td>Предусмотреть в исходящей компании автообзвона...</td>\n      <td>г. Тверь 15.11.2022</td>\n      <td>СРОЧНО, бэкенд, фронтенд, вкц, бэкенд готов</td>\n    </tr>\n    <tr>\n      <th>14</th>\n      <td>82</td>\n      <td>https://gitlab.mob112.ru/business/supervisor/-...</td>\n      <td>Предусмотреть настройкой очереди отображения к...</td>\n      <td>Предусмотреть настройкой очереди (в интерфейсе...</td>\n      <td>г. Тверь 15.11.2022</td>\n      <td>бэкенд, фронтенд, вкц, регион, в работе</td>\n    </tr>\n    <tr>\n      <th>13</th>\n      <td>78</td>\n      <td>https://gitlab.mob112.ru/business/supervisor/-...</td>\n      <td>На освободившихся операторов не распределяются...</td>\n      <td>На освободившихся операторов не распределяются...</td>\n      <td>г. Тверь 15.11.2022</td>\n      <td>БАГ, СРОЧНО, бэкенд, телефония, регион, тестир...</td>\n    </tr>\n    <tr>\n      <th>12</th>\n      <td>77</td>\n      <td>https://gitlab.mob112.ru/business/supervisor/-...</td>\n      <td>Возможность осуществления исходящего вызова</td>\n      <td>Возможность осуществления исходящего вызова (н...</td>\n      <td>г. Тверь 15.11.2022</td>\n      <td>СРОЧНО, бэкенд, дизайн, фронтенд, телефония, р...</td>\n    </tr>\n    <tr>\n      <th>11</th>\n      <td>76</td>\n      <td>https://gitlab.mob112.ru/business/supervisor/-...</td>\n      <td>Реализовать автовозвращение операторов с резер...</td>\n      <td>Реализовать автовозвращение операторов с резер...</td>\n      <td>г. Тверь 15.11.2022</td>\n      <td>СРОЧНО, фронтенд, регион</td>\n    </tr>\n    <tr>\n      <th>10</th>\n      <td>75</td>\n      <td>https://gitlab.mob112.ru/business/supervisor/-...</td>\n      <td>Операторы не стабильно возвращаются в очередь</td>\n      <td>Операторы не стабильно возвращаются в очередь ...</td>\n      <td>г. Тверь 15.11.2022</td>\n      <td>БАГ, СРОЧНО, бэкенд, телефония, регион, тестир...</td>\n    </tr>\n    <tr>\n      <th>9</th>\n      <td>67</td>\n      <td>https://gitlab.mob112.ru/business/supervisor/-...</td>\n      <td>Окно подтверждения получения уведомлений в бра...</td>\n      <td>В браузере Chromium при каждом запуске браузер...</td>\n      <td>г. Тверь 15.11.2022</td>\n      <td>БАГ, СРОЧНО, фронтенд, регион</td>\n    </tr>\n    <tr>\n      <th>8</th>\n      <td>63</td>\n      <td>https://gitlab.mob112.ru/business/supervisor/-...</td>\n      <td>Выверить логику отображения и занятости карточ...</td>\n      <td>Выверить логику отображения и занятости карточ...</td>\n      <td>г. Тверь 15.11.2022</td>\n      <td>БАГ, бэкенд, фронтенд, регион, ОБСУДИТЬ</td>\n    </tr>\n    <tr>\n      <th>7</th>\n      <td>60</td>\n      <td>https://gitlab.mob112.ru/business/supervisor/-...</td>\n      <td>Доработки интерфейса анкетирования (survey)</td>\n      <td>[x] 1. Требуется визуальное блочное разделение...</td>\n      <td>г. Тверь 15.11.2022</td>\n      <td>бэкенд, дизайн, фронтенд, регион, опросник</td>\n    </tr>\n    <tr>\n      <th>6</th>\n      <td>57</td>\n      <td>https://gitlab.mob112.ru/business/supervisor/-...</td>\n      <td>Не работает перехват звонка</td>\n      <td>Не работает перехват звонка между операторами,...</td>\n      <td>г. Тверь 15.11.2022</td>\n      <td>БАГ, СРОЧНО, фронтенд, телефония</td>\n    </tr>\n    <tr>\n      <th>5</th>\n      <td>53</td>\n      <td>https://gitlab.mob112.ru/business/supervisor/-...</td>\n      <td>Сортировка карточек обращений</td>\n      <td>Кривая сортировка. Закрытая карточка стала пер...</td>\n      <td>г. Тверь 15.11.2022</td>\n      <td>БАГ, СРОЧНО, фронтенд, регион</td>\n    </tr>\n    <tr>\n      <th>4</th>\n      <td>48</td>\n      <td>https://gitlab.mob112.ru/business/supervisor/-...</td>\n      <td>При использовании в пароле символов используем...</td>\n      <td>При использовании в пароле пользователя символ...</td>\n      <td>г. Тверь 15.11.2022</td>\n      <td>БАГ, фронтенд, регион</td>\n    </tr>\n    <tr>\n      <th>3</th>\n      <td>38</td>\n      <td>https://gitlab.mob112.ru/business/supervisor/-...</td>\n      <td>Ограничене доступа к функциям Суфлер, конферен...</td>\n      <td>Суфлер, конференцию и перехват звонка, разреши...</td>\n      <td>г. Тверь 15.11.2022</td>\n      <td>фронтенд, регион, бэкенд готов</td>\n    </tr>\n    <tr>\n      <th>2</th>\n      <td>34</td>\n      <td>https://gitlab.mob112.ru/business/supervisor/-...</td>\n      <td>Нет функционала переадресации звонка</td>\n      <td>Отсутствует интерфейс и функционал переадресац...</td>\n      <td>г. Тверь 15.11.2022</td>\n      <td>бэкенд, дизайн, фронтенд, телефония, #Support,...</td>\n    </tr>\n    <tr>\n      <th>1</th>\n      <td>11</td>\n      <td>https://gitlab.mob112.ru/business/supervisor/-...</td>\n      <td>Cправочник адресов</td>\n      <td>Нужен ГАР (справочник адресов, с возможностью ...</td>\n      <td>г. Тверь 15.11.2022</td>\n      <td>бэкенд, фронтенд, регион</td>\n    </tr>\n    <tr>\n      <th>0</th>\n      <td>4</td>\n      <td>https://gitlab.mob112.ru/business/supervisor/-...</td>\n      <td>Расписание маршрутизации</td>\n      <td>Необходимо реализовать расписание маршрутизаци...</td>\n      <td>г. Тверь 15.11.2022</td>\n      <td>СРОЧНО, бэкенд, фронтенд, телефония, вкц, ОБСУ...</td>\n    </tr>\n  </tbody>\n</table>\n</div>"
     },
     "execution_count": 1423,
     "metadata": {},
     "output_type": "execute_result"
    }
   ],
   "source": [
    "df"
   ]
  },
  {
   "cell_type": "code",
   "execution_count": 1424,
   "id": "e089fffd",
   "metadata": {},
   "outputs": [],
   "source": [
    "# df.to_csv(\"/Users/iliya/Egor/iTCODE/reports/output.csv\", index=False)"
   ]
  },
  {
   "cell_type": "code",
   "execution_count": 1425,
   "outputs": [],
   "source": [
    "scope = ['https://spreadsheets.google.com/feeds',\n",
    "         'https://www.googleapis.com/auth/drive']\n",
    "credentials = ServiceAccountCredentials.from_json_keyfile_name(\n",
    "    'jsonFileFromGoogle.json', scope)\n",
    "gc = gspread.authorize(credentials)"
   ],
   "metadata": {
    "collapsed": false
   }
  },
  {
   "cell_type": "code",
   "execution_count": 1426,
   "id": "cca7b198",
   "metadata": {},
   "outputs": [
    {
     "data": {
      "text/plain": "<Worksheet 'Лист19' id:1316481210>"
     },
     "execution_count": 1426,
     "metadata": {},
     "output_type": "execute_result"
    }
   ],
   "source": [
    "spreadsheet_key = '1hoa2bhnbxmDyCEleUffcE7uzFnE8oWN8myYPywjY0-8'\n",
    "sheet_id = '1748867294'\n",
    "wks_name = 'Задачи business'\n",
    "d2g.upload(df, spreadsheet_key, wks_name, credentials=credentials, row_names=False)"
   ]
  },
  {
   "cell_type": "code",
   "execution_count": 1427,
   "outputs": [],
   "source": [
    "def get_service_sacc():\n",
    "    creds = ServiceAccountCredentials.from_json_keyfile_name(\n",
    "        'jsonFileFromGoogle.json', scope).authorize(httplib2.Http())\n",
    "    return build('sheets', 'v4', http=creds)"
   ],
   "metadata": {
    "collapsed": false
   }
  },
  {
   "cell_type": "code",
   "execution_count": 1428,
   "outputs": [],
   "source": [
    "sheet = get_service_sacc().spreadsheets()\n",
    "body = {\n",
    "    \"requests\": [\n",
    "\n",
    "        {\n",
    "            \"repeatCell\": {\n",
    "                \"range\": {\n",
    "                    \"sheetId\": sheet_id,\n",
    "                },\n",
    "                \"cell\": {\n",
    "                    \"userEnteredFormat\": {\n",
    "                        \"textFormat\": {\n",
    "                            \"fontSize\": 14,\n",
    "                            \"fontFamily\": \"Arial\",\n",
    "                            \"bold\": False\n",
    "                        },\n",
    "                        \"horizontalAlignment\": \"CENTER\",\n",
    "                        \"verticalAlignment\": \"MIDDLE\",\n",
    "                        \"wrapStrategy\": \"WRAP\"\n",
    "                    }\n",
    "                },\n",
    "                \"fields\": \"userEnteredFormat\"\n",
    "            },\n",
    "        },\n",
    "\n",
    "        {\n",
    "            \"repeatCell\": {\n",
    "                \"range\": {\n",
    "                    \"sheetId\": sheet_id,\n",
    "                    \"startColumnIndex\": 3,\n",
    "                    \"endColumnIndex\": 4,\n",
    "                },\n",
    "                \"cell\": {\n",
    "                    \"userEnteredFormat\": {\n",
    "                        \"textFormat\": {\n",
    "                            \"fontSize\": 14,\n",
    "                            \"fontFamily\": \"Arial\",\n",
    "                            \"bold\": False,\n",
    "                        },\n",
    "                        \"horizontalAlignment\": \"LEFT\",\n",
    "                    }\n",
    "                },\n",
    "                \"fields\": \"userEnteredFormat(horizontalAlignment)\"\n",
    "            },\n",
    "        },\n",
    "\n",
    "\n",
    "        {\n",
    "            \"repeatCell\": {\n",
    "                \"range\": {\n",
    "                    \"sheetId\": sheet_id,\n",
    "                    \"endRowIndex\": 1,\n",
    "                    \"endColumnIndex\": 6,\n",
    "                },\n",
    "                \"cell\": {\n",
    "                    \"userEnteredFormat\": {\n",
    "                        \"backgroundColor\": {\"red\": 0.0, \"green\": 54.7, \"blue\": 90.2},\n",
    "                        \"textFormat\": {\n",
    "                            \"fontSize\": 14,\n",
    "                            \"fontFamily\": \"Arial\",\n",
    "                            \"bold\": False,\n",
    "                            \"foregroundColor\": {\"red\": 1.0, \"green\": 1.0, \"blue\": 1.0}\n",
    "                        },\n",
    "                        \"horizontalAlignment\": \"CENTER\",\n",
    "                    }\n",
    "                },\n",
    "                \"fields\": \"userEnteredFormat(backgroundColor, textFormat, horizontalAlignment)\"\n",
    "            },\n",
    "        },\n",
    "        {\n",
    "            \"updateDimensionProperties\": {\n",
    "                \"range\": {\n",
    "                    \"sheetId\": sheet_id,\n",
    "                    \"dimension\": \"COLUMNS\",\n",
    "                    \"startIndex\": 3,\n",
    "                    \"endIndex\": 4,\n",
    "                },\n",
    "                \"properties\" : {\n",
    "                    \"pixelSize\": 560\n",
    "                },\n",
    "                \"fields\": \"pixelSize\",\n",
    "            }\n",
    "\n",
    "        },\n",
    "        {\n",
    "            \"updateDimensionProperties\": {\n",
    "                \"range\": {\n",
    "                    \"sheetId\": sheet_id,\n",
    "                    \"dimension\": \"COLUMNS\",\n",
    "                    \"startIndex\": 2,\n",
    "                    \"endIndex\": 3,\n",
    "                },\n",
    "                \"properties\" : {\n",
    "                    \"pixelSize\": 260\n",
    "                },\n",
    "                \"fields\": \"pixelSize\",\n",
    "            }\n",
    "\n",
    "        }\n",
    "\n",
    "    ]\n",
    "}"
   ],
   "metadata": {
    "collapsed": false
   }
  },
  {
   "cell_type": "code",
   "execution_count": 1428,
   "outputs": [],
   "source": [],
   "metadata": {
    "collapsed": false
   }
  },
  {
   "cell_type": "code",
   "execution_count": 1429,
   "id": "cecc7539",
   "metadata": {},
   "outputs": [],
   "source": [
    "response = sheet.batchUpdate(spreadsheetId=spreadsheet_key, body=body).execute()"
   ]
  },
  {
   "cell_type": "code",
   "execution_count": 1429,
   "outputs": [],
   "source": [],
   "metadata": {
    "collapsed": false
   }
  },
  {
   "cell_type": "code",
   "execution_count": 1429,
   "id": "068b2ded",
   "metadata": {},
   "outputs": [],
   "source": []
  },
  {
   "cell_type": "code",
   "execution_count": 1429,
   "id": "644aee0f",
   "metadata": {},
   "outputs": [],
   "source": []
  },
  {
   "cell_type": "code",
   "execution_count": 1429,
   "id": "9d33f0b2",
   "metadata": {},
   "outputs": [],
   "source": []
  }
 ],
 "metadata": {
  "kernelspec": {
   "display_name": "Python 3 (ipykernel)",
   "language": "python",
   "name": "python3"
  },
  "language_info": {
   "codemirror_mode": {
    "name": "ipython",
    "version": 3
   },
   "file_extension": ".py",
   "mimetype": "text/x-python",
   "name": "python",
   "nbconvert_exporter": "python",
   "pygments_lexer": "ipython3",
   "version": "3.10.7"
  }
 },
 "nbformat": 4,
 "nbformat_minor": 5
}
